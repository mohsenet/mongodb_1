{
 "cells": [
  {
   "cell_type": "markdown",
   "id": "f0a6f89d-4a26-4b9c-82ee-d121de3342fb",
   "metadata": {
    "jp-MarkdownHeadingCollapsed": true
   },
   "source": [
    "### MongoDB vs MongoDB Atlas:"
   ]
  },
  {
   "cell_type": "markdown",
   "id": "ba633cc3-6275-4748-8828-51e9693e7830",
   "metadata": {},
   "source": [
    "\n",
    "MongoDB is a self-managed, open-source database that requires manual setup and maintenance. MongoDB Atlas is a fully managed cloud service with automated scaling, backups, and security. Choose MongoDB for control or Atlas for ease of use."
   ]
  },
  {
   "cell_type": "markdown",
   "id": "beba4af4-d990-4e4f-865b-158909c0eb43",
   "metadata": {
    "jp-MarkdownHeadingCollapsed": true
   },
   "source": [
    "### Install mongodb (Self-Managed)"
   ]
  },
  {
   "cell_type": "markdown",
   "id": "de9c748d-5685-45ee-a64a-0adec118168a",
   "metadata": {},
   "source": [
    "To install MongoDB (Self-Managed) on Ubuntu 22.04, follow these steps:\n",
    "\n",
    "```bash\n",
    "# Step 1: Import MongoDB GPG Key\n",
    "wget -qO - https://www.mongodb.org/static/pgp/server-7.0.asc | sudo gpg --dearmor -o /usr/share/keyrings/mongodb-server-keyring.gpg\n",
    "\n",
    "# Step 2: Add MongoDB Repository\n",
    "echo \"deb [signed-by=/usr/share/keyrings/mongodb-server-keyring.gpg] https://repo.mongodb.org/apt/ubuntu jammy/mongodb-org/7.0 multiverse\" | sudo tee /etc/apt/sources.list.d/mongodb-org-7.0.list\n",
    "\n",
    "# Step 3: Update Package List\n",
    "sudo apt update\n",
    "\n",
    "# Step 4: Install MongoDB\n",
    "sudo apt install -y mongodb-org\n",
    "\n",
    "# Step 5: Start and Enable MongoDB Service\n",
    "sudo systemctl start mongod\n",
    "sudo systemctl enable mongod\n",
    "\n",
    "# Step 6: Verify Installation\n",
    "\n",
    "# Check the service status:\n",
    "sudo systemctl status mongod\n",
    "\n",
    "# Check MongoDB version:\n",
    "mongod --version\n",
    "\n",
    "# Step 7: Access MongoDB Shell (Optional)\n",
    "mongosh\n",
    "```\n",
    "\n",
    "Now MongoDB is installed and running on your Ubuntu 22.04 system."
   ]
  },
  {
   "cell_type": "markdown",
   "id": "5891b5b1-107e-45cd-acff-56678763947e",
   "metadata": {
    "jp-MarkdownHeadingCollapsed": true
   },
   "source": [
    "### Use vector database for AI"
   ]
  },
  {
   "cell_type": "markdown",
   "id": "04d2f0f1-5796-443b-8a2e-ea5a8d038eca",
   "metadata": {},
   "source": [
    "To use MongoDB as a vector database for AI, you need to enable vector search using MongoDB's Atlas Vector Search or manually store and query vectors in a self-managed setup.\n",
    "\n",
    "Options for Vector Search in MongoDB\n",
    "\n",
    "##### 1. Using MongoDB Atlas (Recommended)\n",
    "\n",
    "    Supports native vector search with Atlas Vector Search (based on HNSW indexing).\n",
    "    \n",
    "    Ideal for fast similarity search in AI/ML applications.\n",
    "    \n",
    "    Requires MongoDB Atlas (managed cloud).\n",
    "\n",
    "\n",
    "##### 2. Self-Managed MongoDB (Manual Approach)\n",
    "\n",
    "    Store vectors as arrays in documents ([0.1, 0.2, 0.3, ...]).\n",
    "    \n",
    "    Perform nearest neighbor search (KNN) using $vectorSearch (available in MongoDB 7.0+).\n",
    "    \n",
    "    Alternatively, combine MongoDB with FAISS, Annoy, or ScaNN for efficient search."
   ]
  },
  {
   "cell_type": "markdown",
   "id": "387d51e9-f29c-47c3-9f57-3189156fe27d",
   "metadata": {
    "jp-MarkdownHeadingCollapsed": true
   },
   "source": [
    "### Example: Storing and Searching Vectors in MongoDB"
   ]
  },
  {
   "cell_type": "markdown",
   "id": "fa5c6136-8bea-4fb6-a8e7-2a8d4d465247",
   "metadata": {},
   "source": [
    "##### 1. Insert a document with a vector\n",
    "```python\n",
    "db.vectors.insertOne({\n",
    "    name: \"Image1\",\n",
    "    embedding: [0.12, 0.56, 0.89, 0.34]\n",
    "});\n",
    "```\n",
    "\n",
    "##### 2. Perform a basic similarity search (manual approach)\n",
    "```python\n",
    "db.vectors.find({\n",
    "    embedding: { $near: [0.10, 0.50, 0.85, 0.30] }\n",
    "});\n",
    "```\n",
    "\n",
    "\n",
    "Would you prefer a fully managed Atlas Vector Search or a self-hosted solution with libraries like FAISS?"
   ]
  },
  {
   "cell_type": "code",
   "execution_count": null,
   "id": "297282a0-99e9-4d4e-8c88-a31da801e398",
   "metadata": {},
   "outputs": [],
   "source": []
  }
 ],
 "metadata": {
  "kernelspec": {
   "display_name": "Python 3 (ipykernel)",
   "language": "python",
   "name": "python3"
  },
  "language_info": {
   "codemirror_mode": {
    "name": "ipython",
    "version": 3
   },
   "file_extension": ".py",
   "mimetype": "text/x-python",
   "name": "python",
   "nbconvert_exporter": "python",
   "pygments_lexer": "ipython3",
   "version": "3.10.12"
  }
 },
 "nbformat": 4,
 "nbformat_minor": 5
}
